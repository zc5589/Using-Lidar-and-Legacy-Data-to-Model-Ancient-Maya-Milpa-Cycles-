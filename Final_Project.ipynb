{
 "cells": [
  {
   "cell_type": "markdown",
   "id": "41f52be1",
   "metadata": {},
   "source": [
    "This code is developed based on the ArcGIS Pro spatial analysing procedure provide by Dr. Sherman Horn and Dr. Justin Tran.\n",
    "The origional procedure is time consuming in ArcGIS Pro, the code assambles the all the methods in the procedure and can\n",
    "finish the analysis within a short period of time.\n",
    "\n",
    "The result of this code will be enter to a excel spreadsheet to calculate the total maize land.\n",
    "\n",
    "The testing data for this code is provided by Dr. Amy Thompson at the Maya site named Xnaheb"
   ]
  },
  {
   "cell_type": "code",
   "execution_count": 5,
   "id": "7280a102",
   "metadata": {},
   "outputs": [],
   "source": [
    "#Import the arcpy package and set the workspace"
   ]
  },
  {
   "cell_type": "code",
   "execution_count": 1,
   "id": "2aa5ed35",
   "metadata": {},
   "outputs": [],
   "source": [
    "import arcpy\n",
    "from arcpy import env\n",
    "from arcpy.sa import *"
   ]
  },
  {
   "cell_type": "code",
   "execution_count": 2,
   "id": "c9b1581b",
   "metadata": {},
   "outputs": [],
   "source": [
    "path = r'C:\\Users\\1017d\\Box\\GIS_class_folders\\Final'"
   ]
  },
  {
   "cell_type": "code",
   "execution_count": 3,
   "id": "3490be5c",
   "metadata": {},
   "outputs": [],
   "source": [
    "env.workspace = path"
   ]
  },
  {
   "cell_type": "code",
   "execution_count": 4,
   "id": "60a71d3a",
   "metadata": {},
   "outputs": [],
   "source": [
    "env.overwriteOutput = True"
   ]
  },
  {
   "cell_type": "code",
   "execution_count": 6,
   "id": "b085c246",
   "metadata": {},
   "outputs": [],
   "source": [
    "#Check the raster file and the shapefile in the folder\n",
    "#The original folder should only contain a DEM.tif raster, a housegroup.shp shapefile and a outline.shp shapeflie."
   ]
  },
  {
   "cell_type": "code",
   "execution_count": 7,
   "id": "b546d7bb",
   "metadata": {},
   "outputs": [
    {
     "data": {
      "text/plain": [
       "['30mSTRMdem2.tif', '30mSTRMdemHillshade.tif', 'DEM.tif']"
      ]
     },
     "execution_count": 7,
     "metadata": {},
     "output_type": "execute_result"
    }
   ],
   "source": [
    "arcpy.ListRasters()"
   ]
  },
  {
   "cell_type": "code",
   "execution_count": 8,
   "id": "a123c0d0",
   "metadata": {},
   "outputs": [
    {
     "data": {
      "text/plain": [
       "['15polygon.shp',\n",
       " '15_land.shp',\n",
       " 'Eligible15.shp',\n",
       " 'Ineligible15.shp',\n",
       " 'XNB_housegroups.shp',\n",
       " 'XNB_housegroups_Buffer.shp',\n",
       " 'XNB_Outline.shp']"
      ]
     },
     "execution_count": 8,
     "metadata": {},
     "output_type": "execute_result"
    }
   ],
   "source": [
    "arcpy.ListFeatureClasses()"
   ]
  },
  {
   "cell_type": "markdown",
   "id": "1866485d",
   "metadata": {},
   "source": [
    "This section of the code is getting the unchange files in the loop and function, such as buffer and total study area"
   ]
  },
  {
   "cell_type": "code",
   "execution_count": 9,
   "id": "be3c72a2",
   "metadata": {},
   "outputs": [],
   "source": [
    "#First set slope to 15 and buffer the housegroup for the needed infield area"
   ]
  },
  {
   "cell_type": "code",
   "execution_count": 10,
   "id": "240eba18",
   "metadata": {},
   "outputs": [
    {
     "data": {
      "text/html": [
       "<div class='gpresult'><h2>Messages</h2><div id='messages' data-messages='[\"Start Time: 2023年4月23日 15:47:18\",\"Succeeded at 2023年4月23日 15:47:19 (Elapsed Time: 0.55 seconds)\"]' data-show='true'><div id = 'default' /></div></div>"
      ],
      "text/plain": [
       "<Result 'C:\\\\Users\\\\1017d\\\\Box\\\\GIS_class_folders\\\\Final\\\\XNB_housegroups_Buffer.shp'>"
      ]
     },
     "execution_count": 10,
     "metadata": {},
     "output_type": "execute_result"
    }
   ],
   "source": [
    "slope = 15\n",
    "resiUnit = 'XNB_housegroups.shp'\n",
    "outBuff = 'XNB_housegroups_Buffer'\n",
    "arcpy.analysis.Buffer(resiUnit, outBuff, \"20.8 Meters\", \"OUTSIDE_ONLY\")"
   ]
  },
  {
   "cell_type": "code",
   "execution_count": 17,
   "id": "01e29912",
   "metadata": {},
   "outputs": [
    {
     "data": {
      "text/plain": [
       "0.22789899940819996"
      ]
     },
     "execution_count": 17,
     "metadata": {},
     "output_type": "execute_result"
    }
   ],
   "source": [
    "#Use search cursor to retrive the total infield land area that can be entered in the excel\n",
    "summed_total = 0\n",
    "with arcpy.da.SearchCursor(outBuff, \"Shape_Area\") as cursor:\n",
    "    for row in cursor:\n",
    "        summed_total = summed_total + row[0]\n",
    "\n",
    "#conver the result to squared kilometer       \n",
    "sqkiloSummed_infield = summed_total * 0.000001\n",
    "sqkiloSummed_infield"
   ]
  },
  {
   "cell_type": "code",
   "execution_count": 11,
   "id": "d16d4411",
   "metadata": {},
   "outputs": [],
   "source": [
    "#Use the slope tool in the spatial analyst licence to create the slope raster, this will be constant in the loop\n",
    "inRaster = 'DEM.tif'\n",
    "outMeasure = \"PERCENT_RISE\"\n",
    "outSlope = Slope(inRaster, \"PERCENT_RISE\", 1, \"PLANAR\")"
   ]
  },
  {
   "cell_type": "code",
   "execution_count": 18,
   "id": "5f921380",
   "metadata": {},
   "outputs": [
    {
     "name": "stdout",
     "output_type": "stream",
     "text": [
      "Area equal: 2.194922027604409\n"
     ]
    }
   ],
   "source": [
    "#set the study area outline for the use of creating eligible land\n",
    "studyArea = 'XNB_Outline.shp'\n",
    "\n",
    "#use search cursor to retrive the total study area and convert it to squared kilometer\n",
    "with arcpy.da.SearchCursor(studyArea, ['SHAPE@AREA']) as cursor:\n",
    "    for row in cursor:\n",
    "        print(f'Area equal: {row[0] * 0.000001}')"
   ]
  },
  {
   "cell_type": "markdown",
   "id": "c7bddce7",
   "metadata": {},
   "source": [
    "The first set of code will be using a while loop start with testing 15% slope of the landscape, and increase 5% with each loop until it reaches 30%"
   ]
  },
  {
   "cell_type": "code",
   "execution_count": 19,
   "id": "abc0c305",
   "metadata": {},
   "outputs": [
    {
     "name": "stdout",
     "output_type": "stream",
     "text": [
      "Generating 15 percent slope polygon\n",
      "Creating 15 percent ineligible land\n",
      "Union 15 percent ineligible land\n",
      "Creating 15 percent eligible land\n",
      "Area equal: 0.9507070034350346\n",
      "Generating 20 percent slope polygon\n",
      "Creating 20 percent ineligible land\n",
      "Union 20 percent ineligible land\n",
      "Creating 20 percent eligible land\n",
      "Area equal: 0.686160724994719\n",
      "Generating 25 percent slope polygon\n",
      "Creating 25 percent ineligible land\n",
      "Union 25 percent ineligible land\n",
      "Creating 25 percent eligible land\n",
      "Area equal: 0.4807237306949918\n",
      "Generating 30 percent slope polygon\n",
      "Creating 30 percent ineligible land\n",
      "Union 30 percent ineligible land\n",
      "Creating 30 percent eligible land\n",
      "Area equal: 0.3320785104123803\n"
     ]
    }
   ],
   "source": [
    "while slope <= 30:\n",
    "    #use the Con tool in the spatial analyst licence to generate polygon containing 15% slope\n",
    "    whereClause = \"VALUE < \" + str(slope)\n",
    "    outCon = Con(outSlope, 1, 0, whereClause)\n",
    "    outPolygon = str(slope) + \"polygon.shp\"\n",
    "    arcpy.conversion.RasterToPolygon(outCon, outPolygon, \"NO_SIMPLIFY\", \"VALUE\")\n",
    "    print(f'Generating {slope} percent slope polygon')\n",
    "    \n",
    "    #select the polygon for the ineligible land based on the gridcode\n",
    "    outLand = str(slope) + \"_land.shp\"\n",
    "    selectClause = '\"gridcode\" = 1'\n",
    "    arcpy.analysis.Select(outPolygon, outLand, selectClause)\n",
    "    print(f'Creating {slope} percent ineligible land')\n",
    "    \n",
    "    #use union to combine the ineligible polygon with the housegroup and infield buffer\n",
    "    inUnion = [outBuff, resiUnit, outLand]\n",
    "    outUnion = \"Ineligible\" + str(slope) + \".shp\"\n",
    "    arcpy.analysis.Union(inUnion, outUnion)\n",
    "    print(f'Union {slope} percent ineligible land')    \n",
    "    \n",
    "    #Erase the ineligible land from the maya site outline polygon to create eligible land\n",
    "    outEligible = \"Eligible\" + str(slope) + \".shp\"\n",
    "    arcpy.analysis.Erase(studyArea, outUnion, outEligible)\n",
    "    print(f'Creating {slope} percent eligible land')\n",
    "    \n",
    "    #use the search cursor to retrive the area of eligible land\n",
    "    with arcpy.da.SearchCursor(outEligible, ['SHAPE@AREA']) as cursor:\n",
    "        for row in cursor:\n",
    "            print(f'Area equal: {row[0] * 0.000001}')\n",
    "            \n",
    "    slope += 5"
   ]
  },
  {
   "cell_type": "markdown",
   "id": "da691b51",
   "metadata": {},
   "source": [
    "The second set of code is to create a function but not using any loop. This is made for analysising a specific number of slope e.g. 7%"
   ]
  },
  {
   "cell_type": "code",
   "execution_count": 20,
   "id": "9e44d997",
   "metadata": {},
   "outputs": [],
   "source": [
    "def milpaSlope(n):\n",
    "    '''\n",
    "    This function is used to visualize the land \"eligiblity\" for milpa-cycle cultivation at Maya cities\n",
    "    require one integer indicate what percentage of the land that is needed to be calculated\n",
    "    \n",
    "    Usage\n",
    "    >>>milpaSlope(7)\n",
    "    '''\n",
    "    #use the Con tool in the spatial analyst licence to generate polygon containing 15% slope\n",
    "    whereClause = \"VALUE < \" + str(n)\n",
    "    outCon = Con(outSlope, 1, 0, whereClause)\n",
    "    outPolygon = str(n) + \"polygon.shp\"\n",
    "    arcpy.conversion.RasterToPolygon(outCon, outPolygon, \"NO_SIMPLIFY\", \"VALUE\")\n",
    "    print(f'Generating {n} percent slope polygon')\n",
    "    \n",
    "    #select the polygon for the ineligible land based on the gridcode\n",
    "    outLand = str(n) + \"_land.shp\"\n",
    "    selectClause = '\"gridcode\" = 1'\n",
    "    arcpy.analysis.Select(outPolygon, outLand, selectClause)\n",
    "    print(f'Creating {n} percent ineligible land')\n",
    "    \n",
    "    #use union to combine the ineligible polygon with the housegroup and infield buffer\n",
    "    inUnion = [outBuff, resiUnit, outLand]\n",
    "    outUnion = \"Ineligible\" + str(n) + \".shp\"\n",
    "    arcpy.analysis.Union(inUnion, outUnion)\n",
    "    print(f'Union {n} percent ineligible land')    \n",
    "    \n",
    "    #Erase the ineligible land from the maya site outline polygon to create eligible land\n",
    "    outEligible = \"Eligible\" + str(n) + \".shp\"\n",
    "    arcpy.analysis.Erase(studyArea, outUnion, outEligible)\n",
    "    print(f'Creating {n} percent eligible land')\n",
    "    \n",
    "    #use the search cursor to retrive the area of eligible land\n",
    "    with arcpy.da.SearchCursor(outEligible, ['SHAPE@AREA']) as cursor:\n",
    "        for row in cursor:\n",
    "            print(f'Area equal: {row[0] * 0.000001}')"
   ]
  },
  {
   "cell_type": "code",
   "execution_count": 21,
   "id": "ced7c8bc",
   "metadata": {},
   "outputs": [
    {
     "name": "stdout",
     "output_type": "stream",
     "text": [
      "Generating 7 percent slope polygon\n",
      "Creating 7 percent ineligible land\n",
      "Union 7 percent ineligible land\n",
      "Creating 7 percent eligible land\n",
      "Area equal: 1.405920374216194\n"
     ]
    }
   ],
   "source": [
    "milpaSlope(7)"
   ]
  },
  {
   "cell_type": "code",
   "execution_count": null,
   "id": "8033178d",
   "metadata": {},
   "outputs": [],
   "source": []
  }
 ],
 "metadata": {
  "kernelspec": {
   "display_name": "Python 3",
   "language": "python",
   "name": "python3"
  },
  "language_info": {
   "codemirror_mode": {
    "name": "ipython",
    "version": 3
   },
   "file_extension": ".py",
   "mimetype": "text/x-python",
   "name": "python",
   "nbconvert_exporter": "python",
   "pygments_lexer": "ipython3",
   "version": "3.9.11"
  }
 },
 "nbformat": 4,
 "nbformat_minor": 5
}
